{
 "cells": [
  {
   "cell_type": "code",
   "execution_count": null,
   "metadata": {},
   "outputs": [],
   "source": [
    "from datetime import date\n",
    "from IPython.display import display, Markdown\n",
    "import pandas\n",
    "import pathlib"
   ]
  },
  {
   "cell_type": "code",
   "execution_count": null,
   "metadata": {},
   "outputs": [],
   "source": [
    "pandas.set_option(\"display.max_columns\", None)\n",
    "pandas.set_option(\"display.max_rows\", None)"
   ]
  },
  {
   "cell_type": "code",
   "execution_count": null,
   "metadata": {},
   "outputs": [],
   "source": [
    "OUTPUT_DIR = pathlib.Path(\"../output\")"
   ]
  },
  {
   "cell_type": "code",
   "execution_count": null,
   "metadata": {},
   "outputs": [],
   "source": [
    "rows = pandas.read_csv(OUTPUT_DIR / \"rows.csv\")"
   ]
  },
  {
   "cell_type": "markdown",
   "metadata": {},
   "source": [
    "# OpenSAFELY-TPP Database Schema\n",
    "\n",
    "This report displays the schema of the OpenSAFELY-TPP database.\n",
    "It is part of the OpenSAFELY platform's technical documentation\n",
    "and is published at <https://reports.opensafely.org/>.\n",
    "\n",
    "The schema is read from the `OpenSAFELYSchemaInformation` table,\n",
    "which is refreshed at the same time as the core SystmOne primary care datasets.\n",
    "There are some non-automated steps required to update the schema information when a new table is added to the database &mdash;\n",
    "if you can't see a table that you are expecting to see, then please speak to TPP.\n",
    "\n",
    "If you would like to use the OpenSAFELY platform, then you should read\n",
    "our [documentation](https://docs.opensafely.org/),\n",
    "our [principles](https://www.opensafely.org/about/),\n",
    "and our process for [onboarding new users](https://www.opensafely.org/onboarding-new-users/).\n",
    "If you would like to see the code we used to create this report,\n",
    "then you can [view it on GitHub](https://github.com/opensafely/tpp-database-schema).\n",
    "\n",
    "## Data Sources\n",
    "\n",
    "The core SystmOne primary care datasets are stored in the `S1` tables in the database.\n",
    "The table below lists other, externally-linked datasets:\n",
    "\n",
    "| Dataset                                                  | Source                           | Tables                                             |\n",
    "| -------------------------------------------------------- | -------------------------------- | -------------------------------------------------- |\n",
    "| All positive or negative SARS-CoV2 tests                 | SGSS                             | `SGSS_AllTests_Positive`, `SGSS_AllTests_Negative` |\n",
    "| First-ever positive or negative SARS-CoV2 test           | SGSS                             | `SGSS_Positive`, `SGSS_Negative`                   |\n",
    "| A&E attendances                                          | SUS Emergency Care               | `EC`                                               |\n",
    "| In-patient hospital admissions                           | SUS Admitted Patient Care Spells | `APCS`                                             |\n",
    "| Out-patient hospital appointments                        | SUS                              | `OPA`                                              |\n",
    "| Covid-related ICU admissions                             | ICNARC                           | `ICNARC`                                           |\n",
    "| Covid-related in-hospital deaths                         | CPNS                             | `CPNS`                                             |\n",
    "| COVID-19 Infection Survey                                | ONS                              | `ONS_CIS`                                          |\n",
    "| All-cause registered deaths                              | ONS                              | `ONS_Deaths`                                       |\n",
    "| High cost drugs                                          |                                  | `HighCostDrugs`                                    |\n",
    "| Unique Property Reference Number<sup>1</sup>             |                                  | `UPRN`                                             |\n",
    "| Master Patient Index                                     |                                  | `MPI`                                              |\n",
    "| Health and Social Care Worker identification<sup>2</sup> |                                  | `HealthCareWorker`                                 |\n",
    "\n",
    "<sup>1</sup>Used for deriving household variables<br>\n",
    "<sup>2</sup>Collected at the point of vaccination\n",
    "\n",
    "Some of these tables are accompanied by additional tables.\n",
    "For example, the `OPA` table contains the core out-patient appointment event data, and is accompanied by the `OPA_Cost`, `OPA_Diag`, and `OPA_Proc` tables.\n",
    "\n",
    "## Report Run Date"
   ]
  },
  {
   "cell_type": "code",
   "execution_count": null,
   "metadata": {},
   "outputs": [],
   "source": [
    "Markdown(\n",
    "    f\"\"\"\n",
    "This report was run on {date.today():%Y-%m-%d}.\n",
    "It reflects the state of the database on this date.\n",
    "\"\"\"\n",
    ")"
   ]
  },
  {
   "cell_type": "markdown",
   "metadata": {},
   "source": [
    "## Table Names by Data Source"
   ]
  },
  {
   "cell_type": "code",
   "execution_count": null,
   "metadata": {},
   "outputs": [],
   "source": [
    "rows[[\"DataSource\", \"TableName\"]].drop_duplicates()"
   ]
  },
  {
   "cell_type": "markdown",
   "metadata": {},
   "source": [
    "## Table Schemas\n",
    "\n",
    "The table schemas contain the following information:\n",
    "\n",
    "* `ColumnName`, the column name\n",
    "* `ColumnType`, the column type, such as integer, numeric, or date. For more information, see [SQL Server's _data types_ documentation][1]\n",
    "* `Precision`, `Scale` and `MaxLength`. For more information, see [SQL Server's _precision, scale, and length_ documentation][2]\n",
    "* `IsNullable`, whether `NULL` values are accepted\n",
    "\n",
    "[1]: https://docs.microsoft.com/en-us/sql/t-sql/data-types/data-types-transact-sql\n",
    "[2]: https://docs.microsoft.com/en-us/sql/t-sql/data-types/precision-scale-and-length-transact-sql\n",
    "\n",
    "Use the links in the list below to jump to a table schema."
   ]
  },
  {
   "cell_type": "code",
   "execution_count": null,
   "metadata": {},
   "outputs": [],
   "source": [
    "toc = []\n",
    "sections = []\n",
    "for data_source, by_data_source in rows.groupby(\"DataSource\"):\n",
    "    del by_data_source[\"DataSource\"]\n",
    "    toc.append(f\"* [{data_source}](#{data_source})\")\n",
    "    sections.append(f\"### {data_source}\")\n",
    "\n",
    "    for table_name, by_table_name in by_data_source.groupby(\"TableName\"):\n",
    "        del by_table_name[\"TableName\"]\n",
    "        toc.append(f\"  * [{table_name}](#{table_name})\")\n",
    "        sections.append(f\"### {table_name}\")\n",
    "        sections.append(by_table_name.set_index(\"ColumnName\").to_html())"
   ]
  },
  {
   "cell_type": "code",
   "execution_count": null,
   "metadata": {},
   "outputs": [],
   "source": [
    "Markdown(\"\\n\".join(toc))"
   ]
  },
  {
   "cell_type": "code",
   "execution_count": null,
   "metadata": {},
   "outputs": [],
   "source": [
    "Markdown(\"\\n\\n\".join(sections))"
   ]
  }
 ],
 "metadata": {
  "kernelspec": {
   "display_name": "Python 3",
   "language": "python",
   "name": "python3"
  },
  "language_info": {
   "codemirror_mode": {
    "name": "ipython",
    "version": 3
   },
   "file_extension": ".py",
   "mimetype": "text/x-python",
   "name": "python",
   "nbconvert_exporter": "python",
   "pygments_lexer": "ipython3",
   "version": "3.8.10"
  }
 },
 "nbformat": 4,
 "nbformat_minor": 4
}
